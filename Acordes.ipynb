{
  "cells": [
    {
      "cell_type": "markdown",
      "metadata": {
        "id": "-LQXGYCoIdik"
      },
      "source": [
        "Parte 1: Importação dos Arquivos\n",
        "\n",
        "Em primeiro lugar, eu vou extrair a pasta do arquivo zip. Logo é preciso baixar no Colab o arquivo zip para fazer a extração da pasta."
      ]
    },
    {
      "cell_type": "code",
      "execution_count": 2,
      "metadata": {
        "id": "CUBzhFg2Ii_E"
      },
      "outputs": [],
      "source": [
        "import zipfile\n",
        "import os\n",
        "\n",
        "# Nome do arquivo zip (mude se for diferente)\n",
        "zip_path = \"Acordes.zip\"\n",
        "\n",
        "# Caminho de destino para extração\n",
        "extract_path = \"/content/Acordes\"\n",
        "\n",
        "# Extraindo\n",
        "with zipfile.ZipFile(zip_path, 'r') as zip_ref:\n",
        "    zip_ref.extractall(extract_path)\n"
      ]
    },
    {
      "cell_type": "markdown",
      "metadata": {
        "id": "eCaqkVFTUYjW"
      },
      "source": [
        "Parte 2: Extração de atributos\n",
        "\n",
        "Nessa parte eu vou usar a biblioteca librosa, que é própria para usar com arquivos de áudio.\n",
        "https://librosa.org/doc/latest/generated/librosa.feature.mfcc.html#librosa.feature.mfcc"
      ]
    },
    {
      "cell_type": "code",
      "execution_count": null,
      "metadata": {
        "colab": {
          "base_uri": "https://localhost:8080/"
        },
        "id": "kmqTygTocm0W",
        "outputId": "84f0e9aa-4d16-4dae-83f6-20497ebd0728"
      },
      "outputs": [
        {
          "output_type": "stream",
          "name": "stderr",
          "text": [
            "/usr/local/lib/python3.11/dist-packages/librosa/core/spectrum.py:266: UserWarning: n_fft=1024 is too large for input signal of length=776\n",
            "  warnings.warn(\n",
            "/usr/local/lib/python3.11/dist-packages/librosa/core/spectrum.py:266: UserWarning: n_fft=1024 is too large for input signal of length=793\n",
            "  warnings.warn(\n",
            "/usr/local/lib/python3.11/dist-packages/librosa/core/spectrum.py:266: UserWarning: n_fft=1024 is too large for input signal of length=758\n",
            "  warnings.warn(\n"
          ]
        }
      ],
      "source": [
        "import os\n",
        "import librosa\n",
        "import numpy as np\n",
        "import pandas as pd\n",
        "import matplotlib.pyplot as plt\n",
        "\n",
        "pasta = '/content/Acordes/Acordes/Acordes'\n",
        "lista_arquivos = os.listdir(pasta)\n",
        "arquivos_audio = []\n",
        "\n",
        "for arquivo in lista_arquivos:\n",
        "    if (arquivo.startswith('Major') or arquivo.startswith('Minor')) and arquivo.endswith('.wav'):\n",
        "        arquivos_audio.append(os.path.join(pasta, arquivo))\n",
        "\n",
        "dataset = []\n",
        "\n",
        "for filepath in arquivos_audio:\n",
        "    y, sr = librosa.load(filepath, sr=None)\n",
        "\n",
        "    rms = librosa.feature.rms(y=y).mean()\n",
        "    rolloff = librosa.feature.spectral_rolloff(y=y, sr=sr).mean()\n",
        "    bandwidth = librosa.feature.spectral_bandwidth(y=y, sr=sr).mean()\n",
        "\n",
        "    contrast = librosa.feature.spectral_contrast(y=y, sr=sr)\n",
        "    contrast_mean = contrast.mean()\n",
        "\n",
        "    chroma_stft = librosa.feature.chroma_stft(y=y, sr=sr)\n",
        "    chroma_stft_mean = chroma_stft.mean()\n",
        "\n",
        "    chroma_cqt = librosa.feature.chroma_cqt(y=y, sr=sr)\n",
        "    chroma_cqt_mean = chroma_cqt.mean()\n",
        "\n",
        "    tonnetz = librosa.feature.tonnetz(y=librosa.effects.harmonic(y), sr=sr)\n",
        "    tonnetz_mean = tonnetz.mean()\n",
        "\n",
        "    mfcc = librosa.feature.mfcc(y=y, sr=sr, n_mfcc=3)\n",
        "    mfcc1 = mfcc[0].mean()\n",
        "    mfcc2 = mfcc[1].mean()\n",
        "\n",
        "    zcr = librosa.feature.zero_crossing_rate(y).mean()\n",
        "\n",
        "    filename = os.path.basename(filepath)\n",
        "    classe = 'major' if filename.startswith('Major') else 'minor'\n",
        "\n",
        "    data = {\n",
        "        'filename': filename,\n",
        "        'rms': rms,\n",
        "        'rolloff': rolloff,\n",
        "        'bandwidth': bandwidth,\n",
        "        'contrast_mean': contrast_mean,\n",
        "        'chroma_stft_mean': chroma_stft_mean,\n",
        "        'chroma_cqt_mean': chroma_cqt_mean,\n",
        "        'tonnetz_mean': tonnetz_mean,\n",
        "        'mfcc1': mfcc1,\n",
        "        'mfcc2': mfcc2,\n",
        "        'zcr': zcr,\n",
        "        'class': classe\n",
        "    }\n",
        "\n",
        "    dataset.append(data)\n",
        "\n",
        "    dataset\n",
        "\n"
      ]
    }
  ],
  "metadata": {
    "colab": {
      "provenance": []
    },
    "kernelspec": {
      "display_name": "Python 3",
      "name": "python3"
    },
    "language_info": {
      "name": "python"
    }
  },
  "nbformat": 4,
  "nbformat_minor": 0
}